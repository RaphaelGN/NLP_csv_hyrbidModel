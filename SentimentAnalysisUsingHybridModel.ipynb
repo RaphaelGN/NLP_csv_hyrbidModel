{
  "cells": [
    {
      "cell_type": "code",
      "execution_count": 43,
      "metadata": {
        "id": "ye8DzgHxOr6F"
      },
      "outputs": [],
      "source": [
        "import warnings\n",
        "warnings.filterwarnings('ignore')\n",
        "import pandas as pd\n",
        "import numpy as np\n",
        "import matplotlib.pyplot as plt\n",
        "import pandas as pd\n",
        "import re\n",
        "import string\n",
        "from sklearn.model_selection import train_test_split\n",
        "from sklearn.linear_model import LogisticRegression\n",
        "from sklearn.naive_bayes import MultinomialNB\n",
        "from sklearn.metrics import classification_report, f1_score, accuracy_score, confusion_matrix\n",
        "from sklearn.metrics import roc_curve, auc, roc_auc_score\n",
        "from sklearn.feature_extraction.text import TfidfVectorizer"
      ]
    },
    {
      "cell_type": "markdown",
      "metadata": {
        "id": "WdJUQzVBOr6G"
      },
      "source": [
        "# Data import and preprocessing"
      ]
    },
    {
      "cell_type": "code",
      "execution_count": 44,
      "metadata": {
        "id": "Vi3hZ7_7Or6I"
      },
      "outputs": [],
      "source": [
        "TeweetData = pd.read_csv(r'./stock_data.csv')\n",
        "TeweetData=TeweetData.rename(columns={\"Text\": \"text\", \"Sentiment\": \"data_sentiment\"})"
      ]
    },
    {
      "cell_type": "code",
      "execution_count": 45,
      "metadata": {
        "id": "KoiCP6TxOr6I",
        "outputId": "4ba57223-e400-40c6-8bcf-2494decdcbc2"
      },
      "outputs": [
        {
          "data": {
            "text/html": [
              "<div>\n",
              "<style scoped>\n",
              "    .dataframe tbody tr th:only-of-type {\n",
              "        vertical-align: middle;\n",
              "    }\n",
              "\n",
              "    .dataframe tbody tr th {\n",
              "        vertical-align: top;\n",
              "    }\n",
              "\n",
              "    .dataframe thead th {\n",
              "        text-align: right;\n",
              "    }\n",
              "</style>\n",
              "<table border=\"1\" class=\"dataframe\">\n",
              "  <thead>\n",
              "    <tr style=\"text-align: right;\">\n",
              "      <th></th>\n",
              "      <th>text</th>\n",
              "      <th>data_sentiment</th>\n",
              "    </tr>\n",
              "  </thead>\n",
              "  <tbody>\n",
              "    <tr>\n",
              "      <th>0</th>\n",
              "      <td>Kickers on my watchlist XIDE TIT SOQ PNK CPW B...</td>\n",
              "      <td>1</td>\n",
              "    </tr>\n",
              "    <tr>\n",
              "      <th>1</th>\n",
              "      <td>user: AAP MOVIE. 55% return for the FEA/GEED i...</td>\n",
              "      <td>1</td>\n",
              "    </tr>\n",
              "    <tr>\n",
              "      <th>2</th>\n",
              "      <td>user I'd be afraid to short AMZN - they are lo...</td>\n",
              "      <td>1</td>\n",
              "    </tr>\n",
              "    <tr>\n",
              "      <th>3</th>\n",
              "      <td>MNTA Over 12.00</td>\n",
              "      <td>1</td>\n",
              "    </tr>\n",
              "    <tr>\n",
              "      <th>4</th>\n",
              "      <td>OI  Over 21.37</td>\n",
              "      <td>1</td>\n",
              "    </tr>\n",
              "  </tbody>\n",
              "</table>\n",
              "</div>"
            ],
            "text/plain": [
              "                                                text  data_sentiment\n",
              "0  Kickers on my watchlist XIDE TIT SOQ PNK CPW B...               1\n",
              "1  user: AAP MOVIE. 55% return for the FEA/GEED i...               1\n",
              "2  user I'd be afraid to short AMZN - they are lo...               1\n",
              "3                                  MNTA Over 12.00                 1\n",
              "4                                   OI  Over 21.37                 1"
            ]
          },
          "execution_count": 45,
          "metadata": {},
          "output_type": "execute_result"
        }
      ],
      "source": [
        "TeweetData.head()"
      ]
    },
    {
      "cell_type": "code",
      "execution_count": 46,
      "metadata": {
        "id": "Bl2onu30Or6I"
      },
      "outputs": [],
      "source": [
        "TeweetDataSubset = TeweetData[[\"text\",\"data_sentiment\"]]"
      ]
    },
    {
      "cell_type": "code",
      "execution_count": 47,
      "metadata": {
        "id": "S8rdYH-cOr6J",
        "outputId": "991db5e4-d8bb-41ca-ae78-956e972c47ee"
      },
      "outputs": [
        {
          "data": {
            "text/html": [
              "<div>\n",
              "<style scoped>\n",
              "    .dataframe tbody tr th:only-of-type {\n",
              "        vertical-align: middle;\n",
              "    }\n",
              "\n",
              "    .dataframe tbody tr th {\n",
              "        vertical-align: top;\n",
              "    }\n",
              "\n",
              "    .dataframe thead th {\n",
              "        text-align: right;\n",
              "    }\n",
              "</style>\n",
              "<table border=\"1\" class=\"dataframe\">\n",
              "  <thead>\n",
              "    <tr style=\"text-align: right;\">\n",
              "      <th></th>\n",
              "      <th>text</th>\n",
              "      <th>data_sentiment</th>\n",
              "    </tr>\n",
              "  </thead>\n",
              "  <tbody>\n",
              "    <tr>\n",
              "      <th>0</th>\n",
              "      <td>Kickers on my watchlist XIDE TIT SOQ PNK CPW B...</td>\n",
              "      <td>1</td>\n",
              "    </tr>\n",
              "    <tr>\n",
              "      <th>1</th>\n",
              "      <td>user: AAP MOVIE. 55% return for the FEA/GEED i...</td>\n",
              "      <td>1</td>\n",
              "    </tr>\n",
              "    <tr>\n",
              "      <th>2</th>\n",
              "      <td>user I'd be afraid to short AMZN - they are lo...</td>\n",
              "      <td>1</td>\n",
              "    </tr>\n",
              "    <tr>\n",
              "      <th>3</th>\n",
              "      <td>MNTA Over 12.00</td>\n",
              "      <td>1</td>\n",
              "    </tr>\n",
              "    <tr>\n",
              "      <th>4</th>\n",
              "      <td>OI  Over 21.37</td>\n",
              "      <td>1</td>\n",
              "    </tr>\n",
              "  </tbody>\n",
              "</table>\n",
              "</div>"
            ],
            "text/plain": [
              "                                                text  data_sentiment\n",
              "0  Kickers on my watchlist XIDE TIT SOQ PNK CPW B...               1\n",
              "1  user: AAP MOVIE. 55% return for the FEA/GEED i...               1\n",
              "2  user I'd be afraid to short AMZN - they are lo...               1\n",
              "3                                  MNTA Over 12.00                 1\n",
              "4                                   OI  Over 21.37                 1"
            ]
          },
          "execution_count": 47,
          "metadata": {},
          "output_type": "execute_result"
        }
      ],
      "source": [
        "TeweetDataSubset.head()"
      ]
    },
    {
      "cell_type": "code",
      "execution_count": 48,
      "metadata": {
        "id": "oodkiO2hOr6J",
        "outputId": "ebb6ad34-9039-44e3-c6fe-be767b50b425"
      },
      "outputs": [
        {
          "name": "stderr",
          "output_type": "stream",
          "text": [
            "[nltk_data] Downloading package stopwords to\n",
            "[nltk_data]     /Users/raphael/nltk_data...\n",
            "[nltk_data]   Package stopwords is already up-to-date!\n"
          ]
        },
        {
          "data": {
            "text/plain": [
              "True"
            ]
          },
          "execution_count": 48,
          "metadata": {},
          "output_type": "execute_result"
        }
      ],
      "source": [
        "import nltk\n",
        "from nltk.corpus import stopwords\n",
        "nltk.download(\"stopwords\")"
      ]
    },
    {
      "cell_type": "code",
      "execution_count": 49,
      "metadata": {
        "id": "xWXY-4axOr6J"
      },
      "outputs": [
        {
          "name": "stdout",
          "output_type": "stream",
          "text": [
            "{'most', 'again', 'our', 'whom', 'through', \"she's\", 'hers', 'same', 'during', \"hasn't\", \"weren't\", 'mightn', 'a', 'y', 'against', 'and', \"don't\", 'up', 'own', \"it's\", 'them', 'isn', 'her', 'wouldn', 'didn', 'why', 'they', \"mightn't\", 'below', 'more', 'your', \"you'd\", 'don', \"wasn't\", \"won't\", 'down', 'but', 'not', 'these', 'were', 'itself', 'has', 'won', 'there', \"hadn't\", 'can', \"should've\", 'from', 'weren', 'before', 'she', 'being', 'will', 'hadn', 'now', 'yours', 'until', 'hasn', 'or', \"you've\", 'of', 'that', \"you're\", 'd', 'was', 'his', 'we', 's', 'few', 'when', 'been', 'himself', 'haven', 'what', 'doesn', 'after', 'while', 'mustn', 'do', 'ma', 'so', 'to', 've', 'm', 'where', 'herself', 'the', \"mustn't\", 'some', \"isn't\", 'here', 'myself', 'had', \"needn't\", 'just', 'their', \"that'll\", 'as', 'shouldn', 'under', 'no', \"doesn't\", 'be', 'doing', 'its', 'above', 'between', 'only', 'over', 'once', 'this', 'did', 'those', 'into', 'on', \"shan't\", 'have', 're', 'themselves', \"shouldn't\", 'ours', 'an', 'if', \"didn't\", 'which', 'shan', 'does', 'about', \"aren't\", 'all', 'further', 'nor', 'in', 'who', 'by', 'any', 'because', 'each', 'very', 'such', 'my', 'yourselves', 'then', 'off', 'with', 'couldn', 'both', 'he', 'o', 'me', 'yourself', \"wouldn't\", \"you'll\", 't', 'are', 'at', 'than', 'theirs', 'other', 'wasn', 'ain', 'am', 'out', \"couldn't\", 'him', 'should', 'having', 'aren', 'how', 'ourselves', 'i', 'you', 'is', 'it', \"haven't\", 'll', 'needn', 'too', 'for'}\n"
          ]
        }
      ],
      "source": [
        "stop_words = set(stopwords.words(\"english\"))\n",
        "print(stop_words)"
      ]
    },
    {
      "cell_type": "code",
      "execution_count": 50,
      "metadata": {
        "id": "_uuqBWyXOr6K"
      },
      "outputs": [],
      "source": [
        "from nltk.stem.porter import PorterStemmer\n",
        "from nltk.stem import WordNetLemmatizer"
      ]
    },
    {
      "cell_type": "code",
      "execution_count": 51,
      "metadata": {
        "id": "Amle-TxYOr6K"
      },
      "outputs": [],
      "source": [
        "wordnet = WordNetLemmatizer()\n",
        "def text_preproc(x):\n",
        "  x = x.lower()\n",
        "  x = ' '.join([word for word in x.split(' ') if word not in stop_words])\n",
        "  x = x.encode('ascii', 'ignore').decode()\n",
        "  x = re.sub(r'https*\\S+', ' ', x)\n",
        "  x = re.sub(r'@\\S+', ' ', x)\n",
        "  x = re.sub(r'#\\S+', ' ', x)\n",
        "  x = re.sub(r'\\'\\w+', '', x)\n",
        "  x = re.sub('[%s]' % re.escape(string.punctuation), ' ', x)\n",
        "  x = re.sub(r'\\w*\\d+\\w*', '', x)\n",
        "  x = re.sub(r'\\s{2,}', ' ', x)\n",
        "  return x"
      ]
    },
    {
      "cell_type": "code",
      "execution_count": 52,
      "metadata": {
        "id": "ptCRj64qOr6K",
        "outputId": "2c9cb0e7-2c2d-45b0-d314-858581540cd9"
      },
      "outputs": [
        {
          "data": {
            "text/html": [
              "<div>\n",
              "<style scoped>\n",
              "    .dataframe tbody tr th:only-of-type {\n",
              "        vertical-align: middle;\n",
              "    }\n",
              "\n",
              "    .dataframe tbody tr th {\n",
              "        vertical-align: top;\n",
              "    }\n",
              "\n",
              "    .dataframe thead th {\n",
              "        text-align: right;\n",
              "    }\n",
              "</style>\n",
              "<table border=\"1\" class=\"dataframe\">\n",
              "  <thead>\n",
              "    <tr style=\"text-align: right;\">\n",
              "      <th></th>\n",
              "      <th>text</th>\n",
              "      <th>data_sentiment</th>\n",
              "    </tr>\n",
              "  </thead>\n",
              "  <tbody>\n",
              "    <tr>\n",
              "      <th>0</th>\n",
              "      <td>Kickers on my watchlist XIDE TIT SOQ PNK CPW B...</td>\n",
              "      <td>1</td>\n",
              "    </tr>\n",
              "    <tr>\n",
              "      <th>1</th>\n",
              "      <td>user: AAP MOVIE. 55% return for the FEA/GEED i...</td>\n",
              "      <td>1</td>\n",
              "    </tr>\n",
              "    <tr>\n",
              "      <th>2</th>\n",
              "      <td>user I'd be afraid to short AMZN - they are lo...</td>\n",
              "      <td>1</td>\n",
              "    </tr>\n",
              "    <tr>\n",
              "      <th>3</th>\n",
              "      <td>MNTA Over 12.00</td>\n",
              "      <td>1</td>\n",
              "    </tr>\n",
              "    <tr>\n",
              "      <th>4</th>\n",
              "      <td>OI  Over 21.37</td>\n",
              "      <td>1</td>\n",
              "    </tr>\n",
              "    <tr>\n",
              "      <th>5</th>\n",
              "      <td>PGNX  Over 3.04</td>\n",
              "      <td>1</td>\n",
              "    </tr>\n",
              "    <tr>\n",
              "      <th>6</th>\n",
              "      <td>AAP - user if so then the current downtrend wi...</td>\n",
              "      <td>-1</td>\n",
              "    </tr>\n",
              "    <tr>\n",
              "      <th>7</th>\n",
              "      <td>Monday's relative weakness. NYX WIN TIE TAP IC...</td>\n",
              "      <td>-1</td>\n",
              "    </tr>\n",
              "    <tr>\n",
              "      <th>8</th>\n",
              "      <td>GOOG - ower trend line channel test &amp; volume s...</td>\n",
              "      <td>1</td>\n",
              "    </tr>\n",
              "    <tr>\n",
              "      <th>9</th>\n",
              "      <td>AAP will watch tomorrow for ONG entry.</td>\n",
              "      <td>1</td>\n",
              "    </tr>\n",
              "  </tbody>\n",
              "</table>\n",
              "</div>"
            ],
            "text/plain": [
              "                                                text  data_sentiment\n",
              "0  Kickers on my watchlist XIDE TIT SOQ PNK CPW B...               1\n",
              "1  user: AAP MOVIE. 55% return for the FEA/GEED i...               1\n",
              "2  user I'd be afraid to short AMZN - they are lo...               1\n",
              "3                                  MNTA Over 12.00                 1\n",
              "4                                   OI  Over 21.37                 1\n",
              "5                                  PGNX  Over 3.04                 1\n",
              "6  AAP - user if so then the current downtrend wi...              -1\n",
              "7  Monday's relative weakness. NYX WIN TIE TAP IC...              -1\n",
              "8  GOOG - ower trend line channel test & volume s...               1\n",
              "9             AAP will watch tomorrow for ONG entry.               1"
            ]
          },
          "execution_count": 52,
          "metadata": {},
          "output_type": "execute_result"
        }
      ],
      "source": [
        "TeweetDataSubset.head(10)"
      ]
    },
    {
      "cell_type": "code",
      "execution_count": 53,
      "metadata": {
        "id": "WTI-vzUdOr6K"
      },
      "outputs": [],
      "source": [
        "TeweetDataSubset['clean_text'] = TeweetDataSubset.text.apply(text_preproc)"
      ]
    },
    {
      "cell_type": "code",
      "execution_count": 54,
      "metadata": {
        "id": "2wMftjFjOr6L",
        "outputId": "b25e4d30-b4bb-497f-dbb4-a2142fb4bdac"
      },
      "outputs": [
        {
          "data": {
            "text/html": [
              "<div>\n",
              "<style scoped>\n",
              "    .dataframe tbody tr th:only-of-type {\n",
              "        vertical-align: middle;\n",
              "    }\n",
              "\n",
              "    .dataframe tbody tr th {\n",
              "        vertical-align: top;\n",
              "    }\n",
              "\n",
              "    .dataframe thead th {\n",
              "        text-align: right;\n",
              "    }\n",
              "</style>\n",
              "<table border=\"1\" class=\"dataframe\">\n",
              "  <thead>\n",
              "    <tr style=\"text-align: right;\">\n",
              "      <th></th>\n",
              "      <th>text</th>\n",
              "      <th>data_sentiment</th>\n",
              "      <th>clean_text</th>\n",
              "    </tr>\n",
              "  </thead>\n",
              "  <tbody>\n",
              "    <tr>\n",
              "      <th>0</th>\n",
              "      <td>Kickers on my watchlist XIDE TIT SOQ PNK CPW B...</td>\n",
              "      <td>1</td>\n",
              "      <td>kickers watchlist xide tit soq pnk cpw bpz aj ...</td>\n",
              "    </tr>\n",
              "    <tr>\n",
              "      <th>1</th>\n",
              "      <td>user: AAP MOVIE. 55% return for the FEA/GEED i...</td>\n",
              "      <td>1</td>\n",
              "      <td>user aap movie return fea geed indicator trade...</td>\n",
              "    </tr>\n",
              "    <tr>\n",
              "      <th>2</th>\n",
              "      <td>user I'd be afraid to short AMZN - they are lo...</td>\n",
              "      <td>1</td>\n",
              "      <td>user i afraid short amzn looking like near mon...</td>\n",
              "    </tr>\n",
              "    <tr>\n",
              "      <th>3</th>\n",
              "      <td>MNTA Over 12.00</td>\n",
              "      <td>1</td>\n",
              "      <td>mnta</td>\n",
              "    </tr>\n",
              "    <tr>\n",
              "      <th>4</th>\n",
              "      <td>OI  Over 21.37</td>\n",
              "      <td>1</td>\n",
              "      <td>oi</td>\n",
              "    </tr>\n",
              "  </tbody>\n",
              "</table>\n",
              "</div>"
            ],
            "text/plain": [
              "                                                text  data_sentiment  \\\n",
              "0  Kickers on my watchlist XIDE TIT SOQ PNK CPW B...               1   \n",
              "1  user: AAP MOVIE. 55% return for the FEA/GEED i...               1   \n",
              "2  user I'd be afraid to short AMZN - they are lo...               1   \n",
              "3                                  MNTA Over 12.00                 1   \n",
              "4                                   OI  Over 21.37                 1   \n",
              "\n",
              "                                          clean_text  \n",
              "0  kickers watchlist xide tit soq pnk cpw bpz aj ...  \n",
              "1  user aap movie return fea geed indicator trade...  \n",
              "2  user i afraid short amzn looking like near mon...  \n",
              "3                                              mnta   \n",
              "4                                                oi   "
            ]
          },
          "execution_count": 54,
          "metadata": {},
          "output_type": "execute_result"
        }
      ],
      "source": [
        "TeweetDataSubset.head()"
      ]
    },
    {
      "cell_type": "code",
      "execution_count": 55,
      "metadata": {},
      "outputs": [],
      "source": [
        "#TeweetDataSubset.data_sentiment = TeweetDataSubset.data_sentiment.map( {'positive':1 , 'negative':0} )\n",
        "# TeweetDataSubset.data_sentiment = TeweetDataSubset.data_sentiment.map( {'1':1 , '-1':0} )\n",
        "# TeweetDataSubset.replace({'a': None})\n",
        "TeweetDataSubset=TeweetDataSubset.replace([-1],0)"
      ]
    },
    {
      "cell_type": "markdown",
      "metadata": {
        "id": "Sw966nbhOr6L"
      },
      "source": [
        "# Basic ML model"
      ]
    },
    {
      "cell_type": "code",
      "execution_count": 56,
      "metadata": {
        "id": "s1sqxD8GOr6L"
      },
      "outputs": [],
      "source": [
        "#SPLITTING THE TRAINING DATASET INTO TRAIN AND TEST\n",
        "X_train, X_test, y_train, y_test = train_test_split(TeweetDataSubset[\"clean_text\"],TeweetDataSubset[\"data_sentiment\"],test_size=0.1,shuffle=True)"
      ]
    },
    {
      "cell_type": "code",
      "execution_count": 57,
      "metadata": {
        "id": "obnKGZN6Or6L"
      },
      "outputs": [],
      "source": [
        "#Tf-Idf\n",
        "tfidf_vectorizer = TfidfVectorizer(use_idf=True,max_features=10)\n",
        "X_train_vectors_tfidf = tfidf_vectorizer.fit_transform(X_train)\n",
        "X_test_vectors_tfidf = tfidf_vectorizer.transform(X_test)"
      ]
    },
    {
      "cell_type": "code",
      "execution_count": 58,
      "metadata": {},
      "outputs": [
        {
          "data": {
            "text/plain": [
              "<5211x10 sparse matrix of type '<class 'numpy.float64'>'\n",
              "\twith 3428 stored elements in Compressed Sparse Row format>"
            ]
          },
          "execution_count": 58,
          "metadata": {},
          "output_type": "execute_result"
        }
      ],
      "source": [
        "X_train_vectors_tfidf"
      ]
    },
    {
      "cell_type": "code",
      "execution_count": 59,
      "metadata": {},
      "outputs": [
        {
          "data": {
            "text/plain": [
              "96      1\n",
              "2385    1\n",
              "3961    0\n",
              "5021    0\n",
              "402     0\n",
              "       ..\n",
              "802     1\n",
              "2658    0\n",
              "5       1\n",
              "1486    0\n",
              "4248    0\n",
              "Name: data_sentiment, Length: 5211, dtype: int64"
            ]
          },
          "execution_count": 59,
          "metadata": {},
          "output_type": "execute_result"
        }
      ],
      "source": [
        "y_train"
      ]
    },
    {
      "cell_type": "code",
      "execution_count": 60,
      "metadata": {
        "id": "gp6_QxnPOr6L",
        "outputId": "387108fd-fdad-4633-eac2-bba5eb3fea98"
      },
      "outputs": [
        {
          "name": "stdout",
          "output_type": "stream",
          "text": [
            "              precision    recall  f1-score   support\n",
            "\n",
            "           0       0.80      0.17      0.28       221\n",
            "           1       0.66      0.97      0.78       359\n",
            "\n",
            "    accuracy                           0.67       580\n",
            "   macro avg       0.73      0.57      0.53       580\n",
            "weighted avg       0.71      0.67      0.59       580\n",
            "\n",
            "Confusion Matrix: [[ 37 184]\n",
            " [  9 350]]\n"
          ]
        }
      ],
      "source": [
        "lr_tfidf=MultinomialNB()\n",
        "lr_tfidf.fit(X_train_vectors_tfidf, y_train)\n",
        "\n",
        "#Predict y value for test dataset\n",
        "y_predict = lr_tfidf.predict(X_test_vectors_tfidf)\n",
        "y_prob = lr_tfidf.predict_proba(X_test_vectors_tfidf)[:,1]\n",
        "print(classification_report(y_test,y_predict))\n",
        "print('Confusion Matrix:',confusion_matrix(y_test, y_predict))\n"
      ]
    },
    {
      "cell_type": "markdown",
      "metadata": {
        "id": "K3y2wPwIOr6M"
      },
      "source": [
        "# HYBRID model"
      ]
    },
    {
      "cell_type": "code",
      "execution_count": 61,
      "metadata": {
        "id": "gykU2g4bOr6M",
        "outputId": "8d1032fa-fd65-44c9-851c-90e30c11a443"
      },
      "outputs": [
        {
          "data": {
            "text/plain": [
              "[('aap', 928),\n",
              " ('user', 646),\n",
              " ('short', 456),\n",
              " ('today', 343),\n",
              " ('day', 311),\n",
              " ('volume', 307),\n",
              " ('like', 278),\n",
              " ('long', 268),\n",
              " ('good', 230),\n",
              " ('stock', 227),\n",
              " ('goog', 212),\n",
              " ('watch', 208),\n",
              " ('new', 208),\n",
              " ('bac', 205),\n",
              " ('stop', 202),\n",
              " ('still', 199),\n",
              " ('nice', 196),\n",
              " ('back', 191),\n",
              " ('buy', 186),\n",
              " ('next', 183),\n",
              " ('move', 180),\n",
              " ('coronavirus', 178),\n",
              " ('market', 176),\n",
              " ('higher', 176),\n",
              " ('time', 174),\n",
              " ('see', 162),\n",
              " ('one', 157),\n",
              " ('ong', 156),\n",
              " ('week', 156),\n",
              " ('triangle', 148),\n",
              " ('trade', 143),\n",
              " ('close', 143),\n",
              " ('weekly', 137),\n",
              " ('stocks', 137),\n",
              " ('could', 134),\n",
              " ('here', 134),\n",
              " ('break', 133),\n",
              " ('looking', 131),\n",
              " ('big', 128),\n",
              " ('breakout', 127),\n",
              " ('support', 125),\n",
              " ('go', 123),\n",
              " ('sensex', 123),\n",
              " ('going', 120),\n",
              " ('i', 119),\n",
              " ('bullish', 119),\n",
              " ('nfx', 118),\n",
              " ('last', 117),\n",
              " ('looks', 115),\n",
              " ('target', 114),\n",
              " ('green', 113),\n",
              " ('points', 113),\n",
              " ('nifty', 113),\n",
              " ('highs', 112),\n",
              " ('lower', 112),\n",
              " ('price', 111),\n",
              " ('earnings', 111),\n",
              " ('markets', 111),\n",
              " ('high', 110),\n",
              " ('amzn', 108),\n",
              " ('get', 108),\n",
              " ('gap', 106),\n",
              " ('position', 103),\n",
              " ('rt', 100),\n",
              " ('p', 99),\n",
              " ('may', 98),\n",
              " ('since', 97),\n",
              " ('line', 96),\n",
              " ('s', 96),\n",
              " ('f', 95),\n",
              " ('low', 94),\n",
              " ('amid', 93),\n",
              " ('resistance', 92),\n",
              " ('spy', 91),\n",
              " ('sell', 90),\n",
              " ('strong', 89),\n",
              " ('think', 89),\n",
              " ('holding', 88),\n",
              " ('cash', 88),\n",
              " ('would', 88),\n",
              " ('ddd', 87),\n",
              " ('term', 85),\n",
              " ('trend', 85),\n",
              " ('well', 85),\n",
              " ('year', 82),\n",
              " ('great', 81),\n",
              " ('daily', 81),\n",
              " ('buying', 81),\n",
              " ('shares', 80),\n",
              " ('take', 80),\n",
              " ('list', 79),\n",
              " ('calls', 79),\n",
              " ('breaking', 78),\n",
              " ('look', 77),\n",
              " ('first', 77),\n",
              " ('tomorrow', 76),\n",
              " ('open', 75),\n",
              " ('u', 73),\n",
              " ('another', 72),\n",
              " ('imo', 71)]"
            ]
          },
          "execution_count": 61,
          "metadata": {},
          "output_type": "execute_result"
        }
      ],
      "source": [
        "#Adding regular expression to data\n",
        "import re\n",
        "from collections import Counter\n",
        "Counter(\" \".join(TeweetDataSubset['clean_text']).split()).most_common(100)"
      ]
    },
    {
      "cell_type": "code",
      "execution_count": 62,
      "metadata": {
        "id": "XuYXppRxOr6M"
      },
      "outputs": [],
      "source": [
        "Postive_pattern_1 = r\"thanks\"\n",
        "Postive_pattern_2 = r\"thank\"\n",
        "Postive_pattern_3 = r\"great\"\n",
        "Postive_pattern_4 = r\"good\"\n",
        "Postive_pattern_5 = r\"safe\"\n",
        "Postive_pattern_6 = r\"awesome\"\n",
        "Postive_pattern_7 = r\"new\"\n",
        "Postive_pattern_8 = r\"satisfied\"\n",
        "Postive_pattern_8 = r\"high\"\n",
        "Postive_pattern_8 = r\"fire\"\n",
        "\n",
        "\n",
        "\n",
        "Positive_Pattern_List = [Postive_pattern_1,Postive_pattern_2,Postive_pattern_3,Postive_pattern_4,\n",
        "                        Postive_pattern_5,Postive_pattern_6,Postive_pattern_7,Postive_pattern_8]"
      ]
    },
    {
      "cell_type": "code",
      "execution_count": 63,
      "metadata": {
        "id": "e966vb9AOr6M"
      },
      "outputs": [],
      "source": [
        "Positive_Complex_Pattern = re.compile('|'.join(['(%s)' % i for i in Positive_Pattern_List]),re.IGNORECASE)"
      ]
    },
    {
      "cell_type": "code",
      "execution_count": 64,
      "metadata": {
        "id": "te0TE3xzOr6N"
      },
      "outputs": [],
      "source": [
        "Negative_pattern_1 = r\"cancelled\"\n",
        "Negative_pattern_2 = r\"delayed\"\n",
        "Negative_pattern_3 = r\"trying\"\n",
        "Negative_pattern_4 = r\"please\"\n",
        "Negative_pattern_5 = r\"wait\"\n",
        "Negative_pattern_6 = r\"worst\"\n",
        "Negative_pattern_7 = r\"lost\"\n",
        "Negative_pattern_8 = r\"never\"\n",
        "Negative_pattern_9 = r\"fraud trans\"\n",
        "\n",
        "Negative_Pattern_List = [Negative_pattern_1,Negative_pattern_2,Negative_pattern_3,Negative_pattern_4,\n",
        "                        Negative_pattern_5,Negative_pattern_6,Negative_pattern_7,Negative_pattern_8]"
      ]
    },
    {
      "cell_type": "code",
      "execution_count": 65,
      "metadata": {
        "id": "Wu8yc4lYOr6N"
      },
      "outputs": [],
      "source": [
        "Negative_Complex_Pattern = re.compile('|'.join(['(%s)' % i for i in Negative_Pattern_List]),re.IGNORECASE)"
      ]
    },
    {
      "cell_type": "code",
      "execution_count": 66,
      "metadata": {
        "id": "BObeMIUaOr6N"
      },
      "outputs": [],
      "source": [
        "TeweetDataSubset[\"Negative_Sentiment_Flag\"] = TeweetDataSubset[\"clean_text\"].apply(lambda x:1 if(len(re.findall(Negative_Complex_Pattern,x))>0) else 0)"
      ]
    },
    {
      "cell_type": "code",
      "execution_count": 67,
      "metadata": {
        "id": "1Qa2lMI6Or6N"
      },
      "outputs": [],
      "source": [
        "TeweetDataSubset[\"Positive_Sentiment_Flag\"] = TeweetDataSubset[\"clean_text\"].apply(lambda x:1 if(len(re.findall(Positive_Complex_Pattern,x))>0) else 0)"
      ]
    },
    {
      "cell_type": "code",
      "execution_count": 68,
      "metadata": {
        "id": "_uD_ACcUOr6N",
        "outputId": "dc8658ad-7283-4a24-8d90-a2c6eb177224"
      },
      "outputs": [
        {
          "data": {
            "text/html": [
              "<div>\n",
              "<style scoped>\n",
              "    .dataframe tbody tr th:only-of-type {\n",
              "        vertical-align: middle;\n",
              "    }\n",
              "\n",
              "    .dataframe tbody tr th {\n",
              "        vertical-align: top;\n",
              "    }\n",
              "\n",
              "    .dataframe thead th {\n",
              "        text-align: right;\n",
              "    }\n",
              "</style>\n",
              "<table border=\"1\" class=\"dataframe\">\n",
              "  <thead>\n",
              "    <tr style=\"text-align: right;\">\n",
              "      <th></th>\n",
              "      <th>text</th>\n",
              "      <th>data_sentiment</th>\n",
              "      <th>clean_text</th>\n",
              "      <th>Negative_Sentiment_Flag</th>\n",
              "      <th>Positive_Sentiment_Flag</th>\n",
              "    </tr>\n",
              "  </thead>\n",
              "  <tbody>\n",
              "    <tr>\n",
              "      <th>0</th>\n",
              "      <td>Kickers on my watchlist XIDE TIT SOQ PNK CPW B...</td>\n",
              "      <td>1</td>\n",
              "      <td>kickers watchlist xide tit soq pnk cpw bpz aj ...</td>\n",
              "      <td>0</td>\n",
              "      <td>0</td>\n",
              "    </tr>\n",
              "    <tr>\n",
              "      <th>1</th>\n",
              "      <td>user: AAP MOVIE. 55% return for the FEA/GEED i...</td>\n",
              "      <td>1</td>\n",
              "      <td>user aap movie return fea geed indicator trade...</td>\n",
              "      <td>0</td>\n",
              "      <td>1</td>\n",
              "    </tr>\n",
              "    <tr>\n",
              "      <th>2</th>\n",
              "      <td>user I'd be afraid to short AMZN - they are lo...</td>\n",
              "      <td>1</td>\n",
              "      <td>user i afraid short amzn looking like near mon...</td>\n",
              "      <td>0</td>\n",
              "      <td>0</td>\n",
              "    </tr>\n",
              "    <tr>\n",
              "      <th>3</th>\n",
              "      <td>MNTA Over 12.00</td>\n",
              "      <td>1</td>\n",
              "      <td>mnta</td>\n",
              "      <td>0</td>\n",
              "      <td>0</td>\n",
              "    </tr>\n",
              "    <tr>\n",
              "      <th>4</th>\n",
              "      <td>OI  Over 21.37</td>\n",
              "      <td>1</td>\n",
              "      <td>oi</td>\n",
              "      <td>0</td>\n",
              "      <td>0</td>\n",
              "    </tr>\n",
              "    <tr>\n",
              "      <th>5</th>\n",
              "      <td>PGNX  Over 3.04</td>\n",
              "      <td>1</td>\n",
              "      <td>pgnx</td>\n",
              "      <td>0</td>\n",
              "      <td>0</td>\n",
              "    </tr>\n",
              "    <tr>\n",
              "      <th>6</th>\n",
              "      <td>AAP - user if so then the current downtrend wi...</td>\n",
              "      <td>0</td>\n",
              "      <td>aap user current downtrend break otherwise sho...</td>\n",
              "      <td>0</td>\n",
              "      <td>0</td>\n",
              "    </tr>\n",
              "    <tr>\n",
              "      <th>7</th>\n",
              "      <td>Monday's relative weakness. NYX WIN TIE TAP IC...</td>\n",
              "      <td>0</td>\n",
              "      <td>monday relative weakness nyx win tie tap ice i...</td>\n",
              "      <td>0</td>\n",
              "      <td>0</td>\n",
              "    </tr>\n",
              "    <tr>\n",
              "      <th>8</th>\n",
              "      <td>GOOG - ower trend line channel test &amp; volume s...</td>\n",
              "      <td>1</td>\n",
              "      <td>goog ower trend line channel test volume support</td>\n",
              "      <td>0</td>\n",
              "      <td>0</td>\n",
              "    </tr>\n",
              "    <tr>\n",
              "      <th>9</th>\n",
              "      <td>AAP will watch tomorrow for ONG entry.</td>\n",
              "      <td>1</td>\n",
              "      <td>aap watch tomorrow ong entry</td>\n",
              "      <td>0</td>\n",
              "      <td>0</td>\n",
              "    </tr>\n",
              "    <tr>\n",
              "      <th>10</th>\n",
              "      <td>i'm assuming FCX opens tomorrow above the 34.2...</td>\n",
              "      <td>1</td>\n",
              "      <td>i assuming fcx opens tomorrow trigger buy stil...</td>\n",
              "      <td>0</td>\n",
              "      <td>0</td>\n",
              "    </tr>\n",
              "    <tr>\n",
              "      <th>11</th>\n",
              "      <td>It really worries me how everyone expects the ...</td>\n",
              "      <td>1</td>\n",
              "      <td>really worries everyone expects market rally n...</td>\n",
              "      <td>0</td>\n",
              "      <td>0</td>\n",
              "    </tr>\n",
              "    <tr>\n",
              "      <th>12</th>\n",
              "      <td>AAP GAMCO's arry Haverty : Apple Is Extremely ...</td>\n",
              "      <td>1</td>\n",
              "      <td>aap gamco arry haverty apple extremely cheap g...</td>\n",
              "      <td>0</td>\n",
              "      <td>1</td>\n",
              "    </tr>\n",
              "    <tr>\n",
              "      <th>13</th>\n",
              "      <td>user Maykiljil posted that.  I agree that MSFT...</td>\n",
              "      <td>1</td>\n",
              "      <td>user maykiljil posted that agree msft going hi...</td>\n",
              "      <td>0</td>\n",
              "      <td>0</td>\n",
              "    </tr>\n",
              "    <tr>\n",
              "      <th>14</th>\n",
              "      <td>Momentum is coming back to ETFC Broke MA200 re...</td>\n",
              "      <td>1</td>\n",
              "      <td>momentum coming back etfc broke resistance sol...</td>\n",
              "      <td>0</td>\n",
              "      <td>0</td>\n",
              "    </tr>\n",
              "    <tr>\n",
              "      <th>15</th>\n",
              "      <td>HA Hitting 35.65 means resume targeting 42 lev...</td>\n",
              "      <td>1</td>\n",
              "      <td>ha hitting means resume targeting level</td>\n",
              "      <td>0</td>\n",
              "      <td>0</td>\n",
              "    </tr>\n",
              "    <tr>\n",
              "      <th>16</th>\n",
              "      <td>user gameplan shot for today but I liked  on t...</td>\n",
              "      <td>1</td>\n",
              "      <td>user gameplan shot today liked trend break may...</td>\n",
              "      <td>0</td>\n",
              "      <td>0</td>\n",
              "    </tr>\n",
              "    <tr>\n",
              "      <th>17</th>\n",
              "      <td>with FCX gapping well above ideal entry lookin...</td>\n",
              "      <td>1</td>\n",
              "      <td>fcx gapping well ideal entry looking pull leas...</td>\n",
              "      <td>0</td>\n",
              "      <td>0</td>\n",
              "    </tr>\n",
              "    <tr>\n",
              "      <th>18</th>\n",
              "      <td>user great list again, particularly like FISV ...</td>\n",
              "      <td>1</td>\n",
              "      <td>user great list again particularly like fisv s...</td>\n",
              "      <td>0</td>\n",
              "      <td>1</td>\n",
              "    </tr>\n",
              "    <tr>\n",
              "      <th>19</th>\n",
              "      <td>ATHX upper trend line</td>\n",
              "      <td>1</td>\n",
              "      <td>athx upper trend line</td>\n",
              "      <td>0</td>\n",
              "      <td>0</td>\n",
              "    </tr>\n",
              "  </tbody>\n",
              "</table>\n",
              "</div>"
            ],
            "text/plain": [
              "                                                 text  data_sentiment  \\\n",
              "0   Kickers on my watchlist XIDE TIT SOQ PNK CPW B...               1   \n",
              "1   user: AAP MOVIE. 55% return for the FEA/GEED i...               1   \n",
              "2   user I'd be afraid to short AMZN - they are lo...               1   \n",
              "3                                   MNTA Over 12.00                 1   \n",
              "4                                    OI  Over 21.37                 1   \n",
              "5                                   PGNX  Over 3.04                 1   \n",
              "6   AAP - user if so then the current downtrend wi...               0   \n",
              "7   Monday's relative weakness. NYX WIN TIE TAP IC...               0   \n",
              "8   GOOG - ower trend line channel test & volume s...               1   \n",
              "9              AAP will watch tomorrow for ONG entry.               1   \n",
              "10  i'm assuming FCX opens tomorrow above the 34.2...               1   \n",
              "11  It really worries me how everyone expects the ...               1   \n",
              "12  AAP GAMCO's arry Haverty : Apple Is Extremely ...               1   \n",
              "13  user Maykiljil posted that.  I agree that MSFT...               1   \n",
              "14  Momentum is coming back to ETFC Broke MA200 re...               1   \n",
              "15  HA Hitting 35.65 means resume targeting 42 lev...               1   \n",
              "16  user gameplan shot for today but I liked  on t...               1   \n",
              "17  with FCX gapping well above ideal entry lookin...               1   \n",
              "18  user great list again, particularly like FISV ...               1   \n",
              "19                           ATHX upper trend line                  1   \n",
              "\n",
              "                                           clean_text  \\\n",
              "0   kickers watchlist xide tit soq pnk cpw bpz aj ...   \n",
              "1   user aap movie return fea geed indicator trade...   \n",
              "2   user i afraid short amzn looking like near mon...   \n",
              "3                                               mnta    \n",
              "4                                                 oi    \n",
              "5                                               pgnx    \n",
              "6   aap user current downtrend break otherwise sho...   \n",
              "7   monday relative weakness nyx win tie tap ice i...   \n",
              "8   goog ower trend line channel test volume support    \n",
              "9                       aap watch tomorrow ong entry    \n",
              "10  i assuming fcx opens tomorrow trigger buy stil...   \n",
              "11  really worries everyone expects market rally n...   \n",
              "12  aap gamco arry haverty apple extremely cheap g...   \n",
              "13  user maykiljil posted that agree msft going hi...   \n",
              "14  momentum coming back etfc broke resistance sol...   \n",
              "15           ha hitting means resume targeting level    \n",
              "16  user gameplan shot today liked trend break may...   \n",
              "17  fcx gapping well ideal entry looking pull leas...   \n",
              "18  user great list again particularly like fisv s...   \n",
              "19                             athx upper trend line    \n",
              "\n",
              "    Negative_Sentiment_Flag  Positive_Sentiment_Flag  \n",
              "0                         0                        0  \n",
              "1                         0                        1  \n",
              "2                         0                        0  \n",
              "3                         0                        0  \n",
              "4                         0                        0  \n",
              "5                         0                        0  \n",
              "6                         0                        0  \n",
              "7                         0                        0  \n",
              "8                         0                        0  \n",
              "9                         0                        0  \n",
              "10                        0                        0  \n",
              "11                        0                        0  \n",
              "12                        0                        1  \n",
              "13                        0                        0  \n",
              "14                        0                        0  \n",
              "15                        0                        0  \n",
              "16                        0                        0  \n",
              "17                        0                        0  \n",
              "18                        0                        1  \n",
              "19                        0                        0  "
            ]
          },
          "execution_count": 68,
          "metadata": {},
          "output_type": "execute_result"
        }
      ],
      "source": [
        "TeweetDataSubset.head(20)"
      ]
    },
    {
      "cell_type": "code",
      "execution_count": 69,
      "metadata": {
        "id": "FPvUYnxSOr6N"
      },
      "outputs": [],
      "source": [
        "#SPLITTING THE TRAINING DATASET INTO TRAIN AND TEST\n",
        "X_train, X_test, y_train, y_test = train_test_split(TeweetDataSubset[[\"clean_text\",\"Negative_Sentiment_Flag\",\"Positive_Sentiment_Flag\"]],TeweetDataSubset[\"data_sentiment\"],test_size=0.1,shuffle=True)"
      ]
    },
    {
      "cell_type": "code",
      "execution_count": 70,
      "metadata": {
        "id": "BMFcLO-4Or6N"
      },
      "outputs": [],
      "source": [
        "#Tf-Idf\n",
        "tfidf_vectorizer = TfidfVectorizer(use_idf=True,max_features = 10)\n",
        "X_train_vectors_tfidf = tfidf_vectorizer.fit_transform(X_train[\"clean_text\"])\n",
        "X_test_vectors_tfidf = tfidf_vectorizer.transform(X_test[\"clean_text\"])"
      ]
    },
    {
      "cell_type": "code",
      "execution_count": 71,
      "metadata": {
        "id": "tHQSTVlbOr6O"
      },
      "outputs": [],
      "source": [
        "mydf = pd.DataFrame(X_train_vectors_tfidf.toarray())\n",
        "mydf_test = pd.DataFrame(X_test_vectors_tfidf.toarray())"
      ]
    },
    {
      "cell_type": "code",
      "execution_count": 72,
      "metadata": {
        "id": "tHDQQpdZOr6O"
      },
      "outputs": [],
      "source": [
        "flag_columns_train = X_train[[\"Negative_Sentiment_Flag\",\"Positive_Sentiment_Flag\"]]\n",
        "flag_columns_test = X_test[[\"Negative_Sentiment_Flag\",\"Positive_Sentiment_Flag\"]]"
      ]
    },
    {
      "cell_type": "code",
      "execution_count": 73,
      "metadata": {
        "id": "gIS1tAZNOr6O"
      },
      "outputs": [],
      "source": [
        "X_train_vectors_tfidf_combined_with_flag = pd.concat([mydf.reset_index(drop=True),flag_columns_train.reset_index(drop=True)],axis=1)"
      ]
    },
    {
      "cell_type": "code",
      "execution_count": 74,
      "metadata": {
        "id": "93YXLLxdOr6O"
      },
      "outputs": [],
      "source": [
        "X_test_vectors_tfidf_combined_with_flag = pd.concat([mydf_test.reset_index(drop=True),flag_columns_test.reset_index(drop=True)],axis=1)"
      ]
    },
    {
      "cell_type": "code",
      "execution_count": 75,
      "metadata": {},
      "outputs": [],
      "source": [
        "X_train_vectors_tfidf_combined_with_flag.columns = X_train_vectors_tfidf_combined_with_flag.columns.astype(str)\n",
        "# y_train=y_train.astype(str)"
      ]
    },
    {
      "cell_type": "code",
      "execution_count": 76,
      "metadata": {},
      "outputs": [],
      "source": [
        "X_test_vectors_tfidf_combined_with_flag.columns = X_test_vectors_tfidf_combined_with_flag.columns.astype(str)"
      ]
    },
    {
      "cell_type": "code",
      "execution_count": 77,
      "metadata": {
        "id": "iMVNP1jwOr6O",
        "outputId": "aa70145a-54b3-4dd6-8dcf-7e7cdfb31059"
      },
      "outputs": [
        {
          "name": "stdout",
          "output_type": "stream",
          "text": [
            "              precision    recall  f1-score   support\n",
            "\n",
            "           0       0.80      0.12      0.20       205\n",
            "           1       0.67      0.98      0.80       375\n",
            "\n",
            "    accuracy                           0.68       580\n",
            "   macro avg       0.74      0.55      0.50       580\n",
            "weighted avg       0.72      0.68      0.59       580\n",
            "\n",
            "Confusion Matrix: [[ 24 181]\n",
            " [  6 369]]\n"
          ]
        }
      ],
      "source": [
        "lr_tfidf=MultinomialNB()\n",
        "lr_tfidf.fit(X_train_vectors_tfidf_combined_with_flag, y_train)\n",
        "\n",
        "#Predict y value for test dataset\n",
        "y_predict = lr_tfidf.predict(X_test_vectors_tfidf_combined_with_flag)\n",
        "y_prob = lr_tfidf.predict_proba(X_test_vectors_tfidf_combined_with_flag)[:,1]\n",
        "print(classification_report(y_test,y_predict))\n",
        "print('Confusion Matrix:',confusion_matrix(y_test, y_predict))"
      ]
    },
    {
      "cell_type": "code",
      "execution_count": null,
      "metadata": {
        "id": "TF3LqSOfOr6P"
      },
      "outputs": [],
      "source": []
    }
  ],
  "metadata": {
    "colab": {
      "provenance": []
    },
    "kernelspec": {
      "display_name": "Python 3",
      "language": "python",
      "name": "python3"
    },
    "language_info": {
      "codemirror_mode": {
        "name": "ipython",
        "version": 3
      },
      "file_extension": ".py",
      "mimetype": "text/x-python",
      "name": "python",
      "nbconvert_exporter": "python",
      "pygments_lexer": "ipython3",
      "version": "3.9.18"
    }
  },
  "nbformat": 4,
  "nbformat_minor": 0
}
